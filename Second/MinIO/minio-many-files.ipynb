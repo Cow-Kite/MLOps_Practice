{
 "cells": [
  {
   "cell_type": "code",
   "execution_count": 4,
   "metadata": {},
   "outputs": [
    {
     "name": "stdout",
     "output_type": "stream",
     "text": [
      "Requirement already satisfied: requests in /Library/Frameworks/Python.framework/Versions/3.12/lib/python3.12/site-packages (2.31.0)\n",
      "Requirement already satisfied: charset-normalizer<4,>=2 in /Library/Frameworks/Python.framework/Versions/3.12/lib/python3.12/site-packages (from requests) (3.3.2)\n",
      "Requirement already satisfied: idna<4,>=2.5 in /Library/Frameworks/Python.framework/Versions/3.12/lib/python3.12/site-packages (from requests) (3.4)\n",
      "Requirement already satisfied: urllib3<3,>=1.21.1 in /Library/Frameworks/Python.framework/Versions/3.12/lib/python3.12/site-packages (from requests) (2.1.0)\n",
      "Requirement already satisfied: certifi>=2017.4.17 in /Library/Frameworks/Python.framework/Versions/3.12/lib/python3.12/site-packages (from requests) (2023.11.17)\n"
     ]
    }
   ],
   "source": [
    "!pip install requests"
   ]
  },
  {
   "cell_type": "code",
   "execution_count": 5,
   "metadata": {},
   "outputs": [],
   "source": [
    "import requests\n",
    "import os\n",
    "import tarfile\n",
    "\n",
    "# COCO 데이터셋의 다운로드 링크\n",
    "url = \"http://images.cocodataset.org/zips/val2017.zip\"\n",
    "zip_file = \"val2017.zip\"\n",
    "extracted_folder = \"val2017\"\n",
    "\n",
    "# COCO 데이터셋 다운로드\n",
    "response = requests.get(url, stream=True)\n",
    "response.raise_for_status()\n",
    "\n",
    "# 다운로드한 데이터 저장\n",
    "with open(zip_file, \"wb\") as f:\n",
    "    for chunk in response.iter_content(chunk_size=8192):\n",
    "        f.write(chunk)"
   ]
  },
  {
   "cell_type": "code",
   "execution_count": 9,
   "metadata": {},
   "outputs": [],
   "source": [
    "import zipfile\n",
    "\n",
    "# 압축 해제된 파일이 저장될 경로\n",
    "extracted_dir = \"./\"\n",
    "\n",
    "# zip 압축 해제\n",
    "with zipfile.ZipFile(zip_file, 'r') as zip_ref:\n",
    "    zip_ref.extractall(extracted_dir)"
   ]
  },
  {
   "cell_type": "code",
   "execution_count": 10,
   "metadata": {},
   "outputs": [],
   "source": [
    "import os\n",
    "\n",
    "from minio import Minio\n",
    "\n",
    "minio_client = Minio(\n",
    "    \"localhost:57100\",\n",
    "    access_key=\"mlops\",\n",
    "    secret_key=\"mlops123\",\n",
    "    secure=False,\n",
    ")\n",
    "\n",
    "# 업로드할 폴더 경로\n",
    "folder_path = './val2017'\n",
    "\n",
    "# MinIO 버킷 정보 \n",
    "bucket_name = 'raw-data'\n",
    "\n",
    "# 폴더 내 파일 업로드\n",
    "for root, dirs, files in os.walk(folder_path):\n",
    "    for file_name in files:\n",
    "        file_path = os.path.join(root, file_name)\n",
    "        object_name = os.path.relpath(file_path, folder_path)\n",
    "        minio_client.fput_object(bucket_name, f\"coco/val2017/{object_name}\", file_path)"
   ]
  },
  {
   "cell_type": "code",
   "execution_count": 12,
   "metadata": {},
   "outputs": [],
   "source": [
    "# 업로드한 파일 삭제\n",
    "from typing import List \n",
    "\n",
    "from minio.deleteobjects import DeleteError, DeleteObject\n",
    "\n",
    "prefix=\"coco\"\n",
    "\n",
    "minio_objects = minio_client.list_objects(\n",
    "    bucket_name=bucket_name,\n",
    "    prefix=prefix,\n",
    "    recursive=True,\n",
    ")\n",
    "\n",
    "delete_objects = [DeleteObject(obj.object_name) for obj in minio_objects]\n",
    "\n",
    "errors: List[DeleteError] = minio_client.remove_objects(\n",
    "    bucket_name,\n",
    "    delete_objects,\n",
    ")\n",
    "error = next(errors, None)\n",
    "if error is not None:\n",
    "    print(\"Bad news arrived\")"
   ]
  },
  {
   "cell_type": "code",
   "execution_count": null,
   "metadata": {},
   "outputs": [],
   "source": []
  }
 ],
 "metadata": {
  "kernelspec": {
   "display_name": "Python 3",
   "language": "python",
   "name": "python3"
  },
  "language_info": {
   "codemirror_mode": {
    "name": "ipython",
    "version": 3
   },
   "file_extension": ".py",
   "mimetype": "text/x-python",
   "name": "python",
   "nbconvert_exporter": "python",
   "pygments_lexer": "ipython3",
   "version": "3.12.0"
  }
 },
 "nbformat": 4,
 "nbformat_minor": 2
}
